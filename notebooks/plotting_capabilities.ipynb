{
 "cells": [
  {
   "cell_type": "code",
   "execution_count": 1,
   "metadata": {},
   "outputs": [],
   "source": [
    "import matplotlib.pyplot as plt\n",
    "import matplotlib as mpl"
   ]
  },
  {
   "cell_type": "code",
   "execution_count": 2,
   "metadata": {},
   "outputs": [],
   "source": [
    "def plot_network(cities, neurons, name='diagram.png', ax=None):\n",
    "    \"\"\"Plot a graphical representation of the problem\"\"\"\n",
    "    \n",
    "    mpl.rcParams['agg.path.chunksize'] = 10000\n",
    "\n",
    "    if not ax:\n",
    "        fig = plt.figure(figsize=(10, 10))\n",
    "        axis = fig.add_axes([0,0,1,1])\n",
    "\n",
    "        axis.set_aspect('equal', adjustable='datalim')\n",
    "        plt.axis('off')\n",
    "\n",
    "        axis.scatter(cities['x'], cities['y'], color='red', s=4)\n",
    "        axis.plot(neurons[:,0], neurons[:,1], 'r.', ls='-', color='black', markersize=1)\n",
    "\n",
    "        plt.savefig(name, bbox_inches='tight', pad_inches=0, dpi=200)\n",
    "        plt.close()\n",
    "\n",
    "    else:\n",
    "        ax.scatter(cities['x'], cities['y'], color='red', s=4)\n",
    "        ax.plot(neurons[:,0], neurons[:,1], 'r.', ls='-', color='black', markersize=1)\n",
    "        return ax"
   ]
  },
  {
   "cell_type": "code",
   "execution_count": 3,
   "metadata": {},
   "outputs": [],
   "source": [
    "def plot_route(cities, route, name='diagram.png', ax=None):\n",
    "    \"\"\"Plot a graphical representation of the route obtained\"\"\"\n",
    "    mpl.rcParams['agg.path.chunksize'] = 10000\n",
    "\n",
    "    if not ax:\n",
    "        fig = plt.figure(figsize=(5, 5))\n",
    "        axis = fig.add_axes([0,0,1,1])\n",
    "\n",
    "        axis.set_aspect('equal', adjustable='datalim')\n",
    "        plt.axis('off')\n",
    "\n",
    "        axis.scatter(cities['x'], cities['y'], color='red', s=4)\n",
    "        route = cities.reindex(route)\n",
    "        route.loc[route.shape[0]] = route.iloc[0]\n",
    "        axis.plot(route['x'], route['y'], color='blue', linewidth=2)\n",
    "\n",
    "        plt.savefig(name, bbox_inches='tight', pad_inches=0, dpi=200)\n",
    "        plt.close()\n",
    "\n",
    "    else:\n",
    "        ax.scatter(cities['x'], cities['y'], color='red', s=4)\n",
    "        route = cities.reindex(route)\n",
    "        route.loc[route.shape[0]] = route.iloc[0]\n",
    "        ax.plot(route['x'], route['y'], color='blue', linewidth=2)\n",
    "        return ax"
   ]
  }
 ],
 "metadata": {
  "kernelspec": {
   "display_name": "Python 3",
   "language": "python",
   "name": "python3"
  },
  "language_info": {
   "codemirror_mode": {
    "name": "ipython",
    "version": 3
   },
   "file_extension": ".py",
   "mimetype": "text/x-python",
   "name": "python",
   "nbconvert_exporter": "python",
   "pygments_lexer": "ipython3",
   "version": "3.8.5"
  }
 },
 "nbformat": 4,
 "nbformat_minor": 4
}
