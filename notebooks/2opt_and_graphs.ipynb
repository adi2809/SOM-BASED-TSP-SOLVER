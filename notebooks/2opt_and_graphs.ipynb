{
 "cells": [
  {
   "cell_type": "markdown",
   "metadata": {},
   "source": [
    "# implementing the graph data-structure, 2-OPT algorithm : "
   ]
  },
  {
   "cell_type": "code",
   "execution_count": 1,
   "metadata": {},
   "outputs": [],
   "source": [
    "# Adjacency Matrix representation in Python\n",
    "\n",
    "class Graph(object):\n",
    "\n",
    "   \n",
    "    def __init__(self, size):\n",
    "        \"\"\"initialise the graph object using an adjacency matrix\n",
    "           _____________________________________________________\n",
    "           \n",
    "           parameters : \n",
    "           \n",
    "           size = the dimension of the matrix to be created. \n",
    "            \n",
    "        \"\"\"\n",
    "        self.adjMatrix = []\n",
    "        for i in range(size):\n",
    "            self.adjMatrix.append([0 for i in range(size)])\n",
    "        self.size = size\n",
    "\n",
    "    \n",
    "    def add_edge(self, v1, v2):\n",
    "        \"\"\"adding an edge in the graph between vertices v1, v2.\n",
    "           _____________________________________________________\n",
    "           \n",
    "           parameters : \n",
    "           \n",
    "           v1 = the first vertex\n",
    "           v2 = the second vertex\n",
    "            \n",
    "        \"\"\"\n",
    "        if v1 == v2:\n",
    "            print(\"Same vertex %d and %d\" % (v1, v2))\n",
    "        \n",
    "        self.adjMatrix[v1][v2] = 1\n",
    "        self.adjMatrix[v2][v1] = 1\n",
    "\n",
    "    \n",
    "    def remove_edge(self, v1, v2):\n",
    "        \"\"\"if there is an edge b/w v1, v2 then remove the edge \n",
    "           between the vertices v1, v2.\n",
    "           ____________________________________________________\n",
    "           \n",
    "           parameters : \n",
    "           \n",
    "           v1, v2 : indices of the vertices from which edge has \n",
    "                    to be removed. \n",
    "        \"\"\"\n",
    "        \n",
    "        if self.adjMatrix[v1][v2] == 0:\n",
    "            print(\"No edge between %d and %d\" % (v1, v2))\n",
    "            return\n",
    "        self.adjMatrix[v1][v2] = 0\n",
    "        self.adjMatrix[v2][v1] = 0\n",
    "\n",
    "    def __len__(self):\n",
    "        # returns the size of the graph \n",
    "        \n",
    "        return self.size\n",
    "\n",
    "    \n",
    "    def print_matrix(self):\n",
    "        # prints the adjacency matrix . \n",
    "        \n",
    "        for row in self.adjMatrix:\n",
    "            for val in row:\n",
    "                print('{:4}'.format(val)),\n",
    "            print"
   ]
  },
  {
   "cell_type": "markdown",
   "metadata": {},
   "source": [
    "we could have used this data-structure, but we have better ways of working with the python libraries such as pandas and numpy, so we will abstain from using the above implementation, but if we had to then the only change we have to do is to populate the matrix with the cost of travel between the cities connected by an edge instead of the binary variable 0, 1 which just denotes the presence of an edge b/w two vertices"
   ]
  },
  {
   "cell_type": "code",
   "execution_count": 2,
   "metadata": {},
   "outputs": [],
   "source": [
    "import numpy as np\n",
    "import pandas as pd"
   ]
  },
  {
   "cell_type": "code",
   "execution_count": 3,
   "metadata": {},
   "outputs": [],
   "source": [
    "import import_ipynb"
   ]
  },
  {
   "cell_type": "code",
   "execution_count": 5,
   "metadata": {},
   "outputs": [],
   "source": [
    "from extraction_preprocessing_visualisation import normalise_two, read_raw\n",
    "from neuron import SELF_ORGANISING_MAP, route_find, generate_random_network_weights, get_gaussian_neighborhood, choose_closest, euclidean_distance"
   ]
  },
  {
   "cell_type": "code",
   "execution_count": 15,
   "metadata": {},
   "outputs": [],
   "source": [
    "def dist(a, b):\n",
    "        \"\"\"Return the euclidean distance between cities tour[a] and tour[b].\"\"\"\n",
    "        return np.hypot(float(coords[tour[a]][0]) - float(coords[tour[b]][0]), float(coords[tour[a]][1]) - float(coords[tour[b]][1]))\n",
    "\n",
    "def two_opt_one():\n",
    "    min_change = 0\n",
    "    num_cities = len(tour)\n",
    "    # Find the best move\n",
    "    for i in range(num_cities - 2):\n",
    "        for j in range(i + 2, num_cities - 1):\n",
    "            change = dist(i, j) + dist(i+1, j+1) - dist(i, i+1) - dist(j, j+1)\n",
    "            if change < min_change:\n",
    "                min_change = change\n",
    "                min_i, min_j = i, j\n",
    "    # Update tour with best move\n",
    "    if min_change < 0:\n",
    "        tour[min_i+1:min_j+1] = tour[min_i+1:min_j+1][::-1]        \n",
    "    return tour "
   ]
  },
  {
   "cell_type": "markdown",
   "metadata": {},
   "source": [
    "# testing this implementation on qatar dataset : "
   ]
  },
  {
   "cell_type": "code",
   "execution_count": 16,
   "metadata": {},
   "outputs": [
    {
     "name": "stdout",
     "output_type": "stream",
     "text": [
      " the problem has 194 number of cities.\n",
      "There are 194 cities in coords\n"
     ]
    }
   ],
   "source": [
    "cities = read_raw('/Users/adityagarg/Desktop/project.nosync/data/qa194.tsp')\n",
    "coords = normalise_two(cities)[['x', 'y']].values\n",
    "# dummy tour: 0, 1, 2, 3...\n",
    "tour = np.array([i for i in range(len(coords))])\n",
    "print(\"There are\", len(coords), \"cities in coords\")"
   ]
  },
  {
   "cell_type": "code",
   "execution_count": 18,
   "metadata": {},
   "outputs": [
    {
     "name": "stdout",
     "output_type": "stream",
     "text": [
      "CPU times: user 226 ms, sys: 4.35 ms, total: 230 ms\n",
      "Wall time: 230 ms\n"
     ]
    }
   ],
   "source": [
    "%time new_tour = two_opt_one()"
   ]
  },
  {
   "cell_type": "code",
   "execution_count": 21,
   "metadata": {},
   "outputs": [],
   "source": [
    "def convert_from_index_to_array(route):\n",
    "    \n",
    "    l = []\n",
    "    for i in route: \n",
    "        l.append(int(i))\n",
    "    return np.array(l)\n",
    "    \n",
    "\n",
    "def compare_routes(route_1, route_2):\n",
    "    \"\"\" compares if the routes after the som and the route after the 2-opt are same or not \n",
    "    \n",
    "        __________________________________________________________________________________\n",
    "        \n",
    "        prameters :\n",
    "        \n",
    "        1) route_1 = route given out by the SOM converted into an np.array\n",
    "        2) route_2 = route generated after the 2-OPT algorithm applied to the previous route\n",
    "    \n",
    "    \n",
    "    \"\"\"\n",
    "    return route_1 == route_2"
   ]
  },
  {
   "cell_type": "markdown",
   "metadata": {},
   "source": [
    "# using cython :"
   ]
  },
  {
   "cell_type": "code",
   "execution_count": 27,
   "metadata": {},
   "outputs": [],
   "source": [
    "%load_ext Cython"
   ]
  },
  {
   "cell_type": "code",
   "execution_count": 35,
   "metadata": {},
   "outputs": [],
   "source": [
    "%%cython\n",
    "import numpy as np\n",
    "cimport numpy as np\n",
    "cimport cython\n",
    "from libc.math cimport sqrt\n",
    "\n",
    "cpdef two_opt_cython(double[:,:] coords, int[:] tour_):\n",
    "    cdef float min_change, change\n",
    "    cdef int i, j, min_i, min_j, num_cities\n",
    "    num_cities = len(tour_)\n",
    "    min_change = 0\n",
    "    # Find the best move\n",
    "    for i in range(num_cities - 2):\n",
    "        for j in range(i + 2, num_cities - 1):\n",
    "            change = dist(i, j, tour_, coords) + dist(i+1, j+1, tour_, coords)\n",
    "            change = - dist(i, i+1, tour_, coords) - dist(j, j+1, tour_, coords)\n",
    "            if change < min_change:\n",
    "                min_change = change\n",
    "                min_i, min_j = i, j\n",
    "    # Update tour with best move\n",
    "    if min_change < 0:\n",
    "        tour_[min_i+1:min_j+1] = tour_[min_i+1:min_j+1][::-1]\n",
    "    return np.asarray(tour_)  # memoryview to numpy array\n",
    "\n",
    "cdef float dist(int a, int b, int[:] tour_view, double[:,:] coords_view):\n",
    "    \"\"\"Return the euclidean distance between cities tour[a] and tour[b].\"\"\"\n",
    "    return sqrt((coords_view[tour_view[a], 0] - coords_view[tour_view[b], 0])**2 +\n",
    "                (coords_view[tour_view[a], 1] - coords_view[tour_view[b], 1])**2)"
   ]
  },
  {
   "cell_type": "code",
   "execution_count": 36,
   "metadata": {},
   "outputs": [
    {
     "name": "stdout",
     "output_type": "stream",
     "text": [
      "CPU times: user 4.2 ms, sys: 876 µs, total: 5.08 ms\n",
      "Wall time: 4.66 ms\n"
     ]
    },
    {
     "data": {
      "text/plain": [
       "array([ 22,  12,  15,   7,   5,   0,   2,   4,   8,   9,  11,  14,  18,\n",
       "        29,  31,  30,  34,  41,  49,  54,  48,  43,  53,  52,  51,  47,\n",
       "        45,  37,  40,  55,  57,  42,  39,  46,  33,  38,  26,  36,  50,\n",
       "        60,  66,  72,  65,  67,  83,  78,  80,  76,  69,  63,  56,  44,\n",
       "        28,  21,  27,  59,  32,  17,  20,  23,  25,  68,  73,  71,  77,\n",
       "        74,  75,  70,  79,  86, 101, 102,  90,  92,  87,  82,  91,  96,\n",
       "        94,  95, 105, 117, 104, 106, 107,  99, 109, 111, 114, 115, 116,\n",
       "       120, 119, 122, 123, 127, 132, 128, 134, 142, 147, 135, 130, 150,\n",
       "       154, 159, 165, 170, 184, 169, 179, 177, 167, 164, 166, 161, 157,\n",
       "       158, 146, 151, 140, 121, 137, 138, 153, 143, 149, 152, 156, 176,\n",
       "       180, 192, 187, 190, 191, 188, 183, 174, 172, 173, 178, 182, 186,\n",
       "       189, 185, 193, 171, 181, 175, 168, 163, 162, 160, 148, 145, 141,\n",
       "       136, 139, 144, 155, 129, 126, 131, 133, 124, 125, 113, 118, 112,\n",
       "       108,  81, 100, 103, 110,  98,  93,  89,  88,  61,  58,  35,  62,\n",
       "        97,  85,  84,  64,  19,   1,   3,   6,  16,  10,  13,  24],\n",
       "      dtype=int32)"
      ]
     },
     "execution_count": 36,
     "metadata": {},
     "output_type": "execute_result"
    }
   ],
   "source": [
    "%time two_opt_cython(coords, tour.astype('int32'))"
   ]
  },
  {
   "cell_type": "code",
   "execution_count": null,
   "metadata": {},
   "outputs": [],
   "source": []
  }
 ],
 "metadata": {
  "kernelspec": {
   "display_name": "Python 3",
   "language": "python",
   "name": "python3"
  },
  "language_info": {
   "codemirror_mode": {
    "name": "ipython",
    "version": 3
   },
   "file_extension": ".py",
   "mimetype": "text/x-python",
   "name": "python",
   "nbconvert_exporter": "python",
   "pygments_lexer": "ipython3",
   "version": "3.8.5"
  }
 },
 "nbformat": 4,
 "nbformat_minor": 4
}
