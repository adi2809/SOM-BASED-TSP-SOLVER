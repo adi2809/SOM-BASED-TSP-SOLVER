{
 "cells": [
  {
   "cell_type": "markdown",
   "metadata": {},
   "source": [
    "# euclidean distance & self organising maps : \n",
    "\n",
    "we should note that at every iteration we try to find the closest neuron or the closest city to the current city or \n",
    "neuron. here we use the <b>\"euclidean distance\"</b> as we are in \n",
    "two dimensional system let $\\,\\vec{a} \\, , \\vec{b} \\,  $ be \n",
    "two vectors in $ \\mathbb{R}^2 \\,$ then the euclidean distance \n",
    "between them is given by $d(a,b) = || \\vec{a} - \\vec{b} ||$"
   ]
  },
  {
   "cell_type": "code",
   "execution_count": 1,
   "metadata": {},
   "outputs": [],
   "source": [
    "import numpy as np \n",
    "\n",
    "def euclidean_distance(vec1, vec2):\n",
    "    \n",
    "    #returns the euclidean distance between the two vectors \n",
    "    \n",
    "    return np.linalg.norm(vec1-vec2, axis=1)\n",
    "    "
   ]
  },
  {
   "cell_type": "markdown",
   "metadata": {},
   "source": [
    "the next task is choosing the nearest of the possible candidates, i.e. selecting the candidate with the minimal euclidean distance from the current one or finding the $$\\vec{b_m} =   \\, \\underset{\\vec{b}}{\\operatorname{argmin}} ||\\vec{a} - \\vec{b}||$$ "
   ]
  },
  {
   "cell_type": "code",
   "execution_count": 2,
   "metadata": {},
   "outputs": [],
   "source": [
    "\"\"\" prototype for the argmin function : \n",
    "___________________________________________________\n",
    "    def argmin(l):\n",
    "        y =  min(range(len(l)), key=lambda x: l[x])\n",
    "        return l[y]\"\"\" \n",
    "\n",
    "# we tried to first understand how the argmin function works for a list, then found that this took time for a matrix so we decided to use the inbuilt argmin function  \n",
    "\n",
    "def choose_closest(current, neighbours):\n",
    "    return euclidean_distance(current, neighbours).argmin()"
   ]
  },
  {
   "cell_type": "markdown",
   "metadata": {},
   "source": [
    "now having found the distances between two cities we have to devise some way to calculate the cost of taking a particular route, also i \n",
    "think that this cost must be sensitive to order like $ \\text{cost(x,y,z)} \\neq \\text{cost(y,z,x)}$"
   ]
  },
  {
   "cell_type": "code",
   "execution_count": 3,
   "metadata": {},
   "outputs": [],
   "source": [
    "def calculate_dist(cities):\n",
    "    \"\"\" calculate the distances while traversing on a route \n",
    "    _________________________________________________________\n",
    "    \n",
    "    cities : pandas data frame object containing the x, y coordinates of the cities \n",
    "    \n",
    "    returns : \n",
    "    \n",
    "    the sum of the distances on traversing a route in a particular order (start -> end)\n",
    "        \n",
    "    \"\"\"\n",
    "    \n",
    "    # cities will be a data frame of coordinates and city number \n",
    "    # we need to first form the array of (x,y) coordinates of cities\n",
    "    \n",
    "    city_coordinates = cities[['x', 'y']].values\n",
    "    \n",
    "    distances = euclidean_distance(city_coordinates, np.roll(city_coordinates, 1, axis=0))\n",
    "    \n",
    "    return np.sum(distances)"
   ]
  },
  {
   "cell_type": "code",
   "execution_count": 4,
   "metadata": {},
   "outputs": [
    {
     "name": "stdout",
     "output_type": "stream",
     "text": [
      "distance between a and b is [8. 1.]\n"
     ]
    },
    {
     "data": {
      "text/plain": [
       "'the expected answer is (9-1,2-1) = (8,1)'"
      ]
     },
     "execution_count": 4,
     "metadata": {},
     "output_type": "execute_result"
    }
   ],
   "source": [
    "# test case 1 : \n",
    "\n",
    "a = np.array([1,1]).reshape(2,1)\n",
    "b = np.array([9,2]).reshape(2,1)\n",
    "\n",
    "print(f\"distance between a and b is {euclidean_distance(a,b)}\")\n",
    "\n",
    "\"\"\"the expected answer is (9-1,2-1) = (8,1)\"\"\""
   ]
  },
  {
   "cell_type": "code",
   "execution_count": 5,
   "metadata": {},
   "outputs": [
    {
     "name": "stdout",
     "output_type": "stream",
     "text": [
      "1\n"
     ]
    },
    {
     "data": {
      "text/plain": [
       "'expected answer is the index of (2,1)'"
      ]
     },
     "execution_count": 5,
     "metadata": {},
     "output_type": "execute_result"
    }
   ],
   "source": [
    "# test case 2 :\n",
    "\n",
    "print(choose_closest(np.array([1,1]), np.array([[1,5],[2,1],[2,3]])))\n",
    "\n",
    "\"\"\"expected answer is the index of (2,1)\"\"\""
   ]
  },
  {
   "cell_type": "code",
   "execution_count": 6,
   "metadata": {},
   "outputs": [
    {
     "name": "stdout",
     "output_type": "stream",
     "text": [
      "4.0\n"
     ]
    },
    {
     "data": {
      "text/plain": [
       "'the expected answer is 4.0'"
      ]
     },
     "execution_count": 6,
     "metadata": {},
     "output_type": "execute_result"
    }
   ],
   "source": [
    "# test case 3 : \n",
    "\n",
    "import pandas as pd \n",
    "\n",
    "df = pd.DataFrame([[1,0],[1,1],[0,1],[0,0]], columns=['x', 'y'])\n",
    "\n",
    "print(calculate_dist(df))\n",
    "\n",
    "\"\"\"the expected answer is 4.0\"\"\""
   ]
  }
 ],
 "metadata": {
  "kernelspec": {
   "display_name": "Python 3",
   "language": "python",
   "name": "python3"
  },
  "language_info": {
   "codemirror_mode": {
    "name": "ipython",
    "version": 3
   },
   "file_extension": ".py",
   "mimetype": "text/x-python",
   "name": "python",
   "nbconvert_exporter": "python",
   "pygments_lexer": "ipython3",
   "version": "3.8.5"
  }
 },
 "nbformat": 4,
 "nbformat_minor": 4
}
